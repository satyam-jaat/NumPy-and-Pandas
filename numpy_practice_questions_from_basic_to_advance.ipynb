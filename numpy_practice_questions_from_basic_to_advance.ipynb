{
  "nbformat": 4,
  "nbformat_minor": 0,
  "metadata": {
    "colab": {
      "provenance": [],
      "authorship_tag": "ABX9TyPyLpK9EqPsKaM5opLRMYKN",
      "include_colab_link": true
    },
    "kernelspec": {
      "name": "python3",
      "display_name": "Python 3"
    },
    "language_info": {
      "name": "python"
    }
  },
  "cells": [
    {
      "cell_type": "markdown",
      "metadata": {
        "id": "view-in-github",
        "colab_type": "text"
      },
      "source": [
        "<a href=\"https://colab.research.google.com/github/satyam-jaat/NumPy-and-Pandas/blob/main/numpy_practice_questions_from_basic_to_advance.ipynb\" target=\"_parent\"><img src=\"https://colab.research.google.com/assets/colab-badge.svg\" alt=\"Open In Colab\"/></a>"
      ]
    },
    {
      "cell_type": "markdown",
      "source": [
        "1. Create 1D array having numbers from 0 to 9."
      ],
      "metadata": {
        "id": "0Mt7MkBhCUbD"
      }
    },
    {
      "cell_type": "code",
      "execution_count": null,
      "metadata": {
        "colab": {
          "base_uri": "https://localhost:8080/"
        },
        "id": "gj2r9GwFBmuB",
        "outputId": "68e97e89-7830-49f7-c34c-e243e1592c82"
      },
      "outputs": [
        {
          "output_type": "stream",
          "name": "stdout",
          "text": [
            "[0 1 2 3 4 5 6 7 8 9]\n"
          ]
        }
      ],
      "source": [
        "import numpy as np\n",
        "\n",
        "arr = np.arange(10)\n",
        "print(arr)"
      ]
    },
    {
      "cell_type": "markdown",
      "source": [
        "2. Create nxn identity matrix."
      ],
      "metadata": {
        "id": "M2RlY1PGvDM9"
      }
    },
    {
      "cell_type": "code",
      "source": [
        "import numpy as np\n",
        "\n",
        "matrix = np.identity(3) #n=3\n",
        "print(matrix)"
      ],
      "metadata": {
        "colab": {
          "base_uri": "https://localhost:8080/"
        },
        "id": "uEM7A-kevCg6",
        "outputId": "92aa31f0-db49-442b-fe97-a48cb7cf59e3"
      },
      "execution_count": null,
      "outputs": [
        {
          "output_type": "stream",
          "name": "stdout",
          "text": [
            "[[1. 0. 0.]\n",
            " [0. 1. 0.]\n",
            " [0. 0. 1.]]\n"
          ]
        }
      ]
    },
    {
      "cell_type": "markdown",
      "source": [
        "3. Create a n x m 2d array filled with zeros."
      ],
      "metadata": {
        "id": "yLstbqJUvbXu"
      }
    },
    {
      "cell_type": "code",
      "source": [
        "import numpy as np\n",
        "\n",
        "array = np.zeros((2,3)) #n=2, m=3\n",
        "print(array)"
      ],
      "metadata": {
        "colab": {
          "base_uri": "https://localhost:8080/"
        },
        "id": "FPSbcVocvk-j",
        "outputId": "1e268b0f-f019-45e9-9aa5-f1dc0604f0f8"
      },
      "execution_count": null,
      "outputs": [
        {
          "output_type": "stream",
          "name": "stdout",
          "text": [
            "[[0. 0. 0.]\n",
            " [0. 0. 0.]]\n"
          ]
        }
      ]
    },
    {
      "cell_type": "markdown",
      "source": [
        "4. Create a n x m 2d array filled with random numbers."
      ],
      "metadata": {
        "id": "DY03zlxswKl6"
      }
    },
    {
      "cell_type": "code",
      "source": [
        "import numpy as np\n",
        "\n",
        "array = np.random.rand(2,3) #n=2, m=3\n",
        "print(array)"
      ],
      "metadata": {
        "colab": {
          "base_uri": "https://localhost:8080/"
        },
        "id": "6l90Bx4cwVPu",
        "outputId": "ea1a4930-de91-41e0-85fe-bfe4195dc8d1"
      },
      "execution_count": null,
      "outputs": [
        {
          "output_type": "stream",
          "name": "stdout",
          "text": [
            "[[0.07446508 0.22626709 0.38381422]\n",
            " [0.42317672 0.40199556 0.86464504]]\n"
          ]
        }
      ]
    },
    {
      "cell_type": "markdown",
      "source": [
        "5. Extract all odd numbers from an array."
      ],
      "metadata": {
        "id": "frkMNGatwjY-"
      }
    },
    {
      "cell_type": "code",
      "source": [
        "import numpy as np\n",
        "array = np.array([0,1,2,3,4,5,6,7,8,9])\n",
        "odd_numbers = array[array % 2 == 1]\n",
        "print(odd_numbers)"
      ],
      "metadata": {
        "colab": {
          "base_uri": "https://localhost:8080/"
        },
        "id": "FwlZzifhwnrW",
        "outputId": "e20f90c2-f74c-405f-e512-3c970a99e913"
      },
      "execution_count": null,
      "outputs": [
        {
          "output_type": "stream",
          "name": "stdout",
          "text": [
            "[1 3 5 7 9]\n"
          ]
        }
      ]
    },
    {
      "cell_type": "markdown",
      "source": [
        "6. Replace all odd numbers from an array into -1."
      ],
      "metadata": {
        "id": "xrhngOP_xbST"
      }
    },
    {
      "cell_type": "code",
      "source": [
        "import numpy as np\n",
        "array = np.array([0,1,2,3,4,5,6,7,8,9])\n",
        "array[array % 2 == 1] = -1\n",
        "print(array)"
      ],
      "metadata": {
        "colab": {
          "base_uri": "https://localhost:8080/"
        },
        "id": "i_8HMdQ5xf_D",
        "outputId": "cd93498e-6bc8-4935-f2ef-37a452a59977"
      },
      "execution_count": null,
      "outputs": [
        {
          "output_type": "stream",
          "name": "stdout",
          "text": [
            "[ 0 -1  2 -1  4 -1  6 -1  8 -1]\n"
          ]
        }
      ]
    },
    {
      "cell_type": "markdown",
      "source": [
        "7. Find the shape(2d or 3d), size(length of array), and data type of given array."
      ],
      "metadata": {
        "id": "3u63tXTtxtsk"
      }
    },
    {
      "cell_type": "code",
      "source": [
        "import numpy as np\n",
        "\n",
        "array = np.array([[0,1,2,3,4,5,6,7,8,9],[1,2,3,4,5,6,7,8,9,0]])\n",
        "print(\"Shape\", array.shape)\n",
        "print(\"Size\", array.size)\n",
        "print(\"Data Type\", array.dtype)"
      ],
      "metadata": {
        "colab": {
          "base_uri": "https://localhost:8080/"
        },
        "id": "C3jmYj__x19V",
        "outputId": "9fe9387c-c04d-42d4-cdb8-59bfe9afcd7b"
      },
      "execution_count": null,
      "outputs": [
        {
          "output_type": "stream",
          "name": "stdout",
          "text": [
            "Shape (2, 10)\n",
            "Size 20\n",
            "Data Type int64\n"
          ]
        }
      ]
    },
    {
      "cell_type": "markdown",
      "source": [
        "8. Reshape a 1d array of 12 elements into 3x4 matrix.\n"
      ],
      "metadata": {
        "id": "yVNnWPUmySSi"
      }
    },
    {
      "cell_type": "code",
      "source": [
        "import numpy as np\n",
        "\n",
        "array = np.array([0,1,2,3,4,5,6,7,8,9,10,11,])\n",
        "array = array.reshape(3,4)\n",
        "print(array)"
      ],
      "metadata": {
        "colab": {
          "base_uri": "https://localhost:8080/"
        },
        "id": "ZHJlMkmXyZJ7",
        "outputId": "0bb457f3-c058-46cb-9467-677644e5868b"
      },
      "execution_count": null,
      "outputs": [
        {
          "output_type": "stream",
          "name": "stdout",
          "text": [
            "[[ 0  1  2  3]\n",
            " [ 4  5  6  7]\n",
            " [ 8  9 10 11]]\n"
          ]
        }
      ]
    },
    {
      "cell_type": "markdown",
      "source": [
        "9. Concatenate two 1d array into one."
      ],
      "metadata": {
        "id": "12eFFfLHy7tJ"
      }
    },
    {
      "cell_type": "code",
      "source": [
        "import numpy as np\n",
        "array1 = np.array([1,5,3])\n",
        "array2 = np.array([2,4,6])\n",
        "\n",
        "array = np.concatenate((array1, array2))\n",
        "print(array)"
      ],
      "metadata": {
        "colab": {
          "base_uri": "https://localhost:8080/"
        },
        "id": "mNX2Dl7UzBuu",
        "outputId": "0f7f7844-39b0-480c-f97e-95512c7a4f38"
      },
      "execution_count": null,
      "outputs": [
        {
          "output_type": "stream",
          "name": "stdout",
          "text": [
            "[1 5 3 2 4 6]\n"
          ]
        }
      ]
    },
    {
      "cell_type": "markdown",
      "source": [
        "10. Find the sum of all elements in a 2D array."
      ],
      "metadata": {
        "id": "uPXeVkbnzel4"
      }
    },
    {
      "cell_type": "code",
      "source": [
        "import numpy as np\n",
        "array = np.array([[1,2,3],[4,5,6]])\n",
        "arr = np.sum(array)\n",
        "print(arr)"
      ],
      "metadata": {
        "colab": {
          "base_uri": "https://localhost:8080/"
        },
        "id": "ChTay1f_zk2N",
        "outputId": "382aff8a-854f-4a30-da12-58a903d0f7f1"
      },
      "execution_count": null,
      "outputs": [
        {
          "output_type": "stream",
          "name": "stdout",
          "text": [
            "21\n"
          ]
        }
      ]
    },
    {
      "cell_type": "markdown",
      "source": [
        "11. Find the mean, median and standard deviation of 1D array."
      ],
      "metadata": {
        "id": "ARdObkFg-YUd"
      }
    },
    {
      "cell_type": "code",
      "source": [
        "import numpy as np\n",
        "\n",
        "array = np.array([6,2,3,4,5,6])\n",
        "mean = np.mean(array)\n",
        "median = np.median(array)\n",
        "std = np.std(array)\n",
        "\n",
        "print(\"Mean:\", mean)\n",
        "print(\"Median:\", median)\n",
        "print(\"Standard Deviation:\", std)"
      ],
      "metadata": {
        "colab": {
          "base_uri": "https://localhost:8080/"
        },
        "id": "fNR6aBQ41F0B",
        "outputId": "f8c06900-beab-4d4b-fc2c-4508c0826554"
      },
      "execution_count": null,
      "outputs": [
        {
          "output_type": "stream",
          "name": "stdout",
          "text": [
            "Mean: 4.333333333333333\n",
            "Median: 4.5\n",
            "Standard Deviation: 1.4907119849998596\n"
          ]
        }
      ]
    },
    {
      "cell_type": "markdown",
      "source": [
        "12. Multiply two matrix using numpy"
      ],
      "metadata": {
        "id": "5Aa7wuaO10xs"
      }
    },
    {
      "cell_type": "code",
      "source": [
        "import numpy as np\n",
        "matrix1 = np.array([[1,2],[3,4]])\n",
        "matrix2 = np.array([[5,6],[7,8]])\n",
        "\n",
        "product = np.dot(matrix1,matrix2)\n",
        "print(product)"
      ],
      "metadata": {
        "colab": {
          "base_uri": "https://localhost:8080/"
        },
        "id": "HOLbJeoa2Cxy",
        "outputId": "8c78906b-02be-4534-aa64-a7ea039bbd49"
      },
      "execution_count": null,
      "outputs": [
        {
          "output_type": "stream",
          "name": "stdout",
          "text": [
            "[[19 22]\n",
            " [43 50]]\n"
          ]
        }
      ]
    },
    {
      "cell_type": "markdown",
      "source": [
        "13. Find the dot products of two vectors."
      ],
      "metadata": {
        "id": "IfQIUc-n3Jiw"
      }
    },
    {
      "cell_type": "code",
      "source": [
        "import numpy as np\n",
        "\n",
        "v1 = np.array([1,2,3])\n",
        "v2 = np.array([4,5,6])\n",
        "\n",
        "dot_product = np.dot(v1,v2)\n",
        "print(dot_product)\n"
      ],
      "metadata": {
        "colab": {
          "base_uri": "https://localhost:8080/"
        },
        "id": "kUQsdHUh3NhM",
        "outputId": "0adf09ca-baa0-45b1-b102-e43e10d90f83"
      },
      "execution_count": null,
      "outputs": [
        {
          "output_type": "stream",
          "name": "stdout",
          "text": [
            "32\n"
          ]
        }
      ]
    },
    {
      "cell_type": "markdown",
      "source": [
        "14. Compute the determinent of 2 x 2 matrix.\n"
      ],
      "metadata": {
        "id": "zUQ_Odyn8hH4"
      }
    },
    {
      "cell_type": "code",
      "source": [
        "import numpy as np\n",
        "\n",
        "matrix = np.array([[1, 2], [3, 4]])\n",
        "\n",
        "determinant = np.linalg.det(matrix)\n",
        "print(determinant)"
      ],
      "metadata": {
        "colab": {
          "base_uri": "https://localhost:8080/"
        },
        "id": "FkUB-Neh8gbW",
        "outputId": "707c6986-879f-4e27-b38a-98fc9efb91c0"
      },
      "execution_count": 7,
      "outputs": [
        {
          "output_type": "stream",
          "name": "stdout",
          "text": [
            "-2.0000000000000004\n"
          ]
        }
      ]
    },
    {
      "cell_type": "markdown",
      "source": [
        "15. Find the inverse of 2 x 2 matrix.\n"
      ],
      "metadata": {
        "id": "7fU8WXUY9Ybo"
      }
    },
    {
      "cell_type": "code",
      "source": [
        "import numpy as np\n",
        "\n",
        "matrix = np.array([[1,2],[3,4]])\n",
        "\n",
        "inverse = np.linalg.inv(matrix)\n",
        "print(inverse)"
      ],
      "metadata": {
        "colab": {
          "base_uri": "https://localhost:8080/"
        },
        "id": "cWY9Y-QQ9bpP",
        "outputId": "391d0b38-72e4-44d9-bff9-7b62a70586ba"
      },
      "execution_count": 10,
      "outputs": [
        {
          "output_type": "stream",
          "name": "stdout",
          "text": [
            "[[-2.   1. ]\n",
            " [ 1.5 -0.5]]\n"
          ]
        }
      ]
    },
    {
      "cell_type": "markdown",
      "source": [
        "16. Flatten a 2d array into 1d array"
      ],
      "metadata": {
        "id": "6ao_t8Ev9wWE"
      }
    },
    {
      "cell_type": "code",
      "source": [
        "import numpy as np\n",
        "\n",
        "array = np.array([[1,2],[3,4]])\n",
        "\n",
        "arr = array.flatten()\n",
        "print(arr)"
      ],
      "metadata": {
        "colab": {
          "base_uri": "https://localhost:8080/"
        },
        "id": "ooA8Udj_9rez",
        "outputId": "a1df5c41-f77e-4857-f8fe-dcf79cc60817"
      },
      "execution_count": 13,
      "outputs": [
        {
          "output_type": "stream",
          "name": "stdout",
          "text": [
            "[1 2 3 4]\n"
          ]
        }
      ]
    },
    {
      "cell_type": "markdown",
      "source": [
        "17. Stack 2d array vertically and horizontally."
      ],
      "metadata": {
        "id": "vqajjCJk-iMA"
      }
    },
    {
      "cell_type": "code",
      "source": [
        "import numpy as np\n",
        "\n",
        "arr1 = np.array([[1,2],[3,4]])\n",
        "arr2 = np.array([[5,6],[7,8]])\n",
        "\n",
        "vertically_stack = np.vstack((arr1,arr2))\n",
        "print(vertically_stack)\n",
        "print(\"\\n\")\n",
        "horizontally_stack = np.hstack((arr1,arr2))\n",
        "print(horizontally_stack)\n"
      ],
      "metadata": {
        "colab": {
          "base_uri": "https://localhost:8080/"
        },
        "id": "Cf5_xnKH-hPY",
        "outputId": "cd7806be-4384-468c-a64a-2e67ae6fe33f"
      },
      "execution_count": 17,
      "outputs": [
        {
          "output_type": "stream",
          "name": "stdout",
          "text": [
            "[[1 2]\n",
            " [3 4]\n",
            " [5 6]\n",
            " [7 8]]\n",
            "\n",
            "\n",
            "[[1 2 5 6]\n",
            " [3 4 7 8]]\n"
          ]
        }
      ]
    },
    {
      "cell_type": "markdown",
      "source": [
        "18. Find the index of maximum and minimum value in array."
      ],
      "metadata": {
        "id": "onHFyBi5_xR6"
      }
    },
    {
      "cell_type": "code",
      "source": [
        "import numpy as np\n",
        "\n",
        "arr = np.array([1,2,3,4,5,4])\n",
        "\n",
        "max_index = np.argmax(arr)\n",
        "min_index = np.argmin(arr)\n",
        "\n",
        "print(max_index)\n",
        "print(min_index)"
      ],
      "metadata": {
        "colab": {
          "base_uri": "https://localhost:8080/"
        },
        "id": "WqLJxgu5_wJW",
        "outputId": "676ab915-6a88-4296-9a76-2508da1d199f"
      },
      "execution_count": 18,
      "outputs": [
        {
          "output_type": "stream",
          "name": "stdout",
          "text": [
            "4\n",
            "0\n"
          ]
        }
      ]
    },
    {
      "cell_type": "markdown",
      "source": [
        "19. Replace all NAN value of array with 0."
      ],
      "metadata": {
        "id": "ilZTh7aGAhba"
      }
    },
    {
      "cell_type": "code",
      "source": [
        "import numpy as np\n",
        "\n",
        "arr = np.array([1,2,np.nan, 3, np.nan])\n",
        "\n",
        "arr[np.isnan(arr)] = 0\n",
        "print(arr)"
      ],
      "metadata": {
        "colab": {
          "base_uri": "https://localhost:8080/"
        },
        "id": "lRz-UtcZAkUB",
        "outputId": "0b3acdb2-2148-446a-a141-90d3fb799a69"
      },
      "execution_count": 19,
      "outputs": [
        {
          "output_type": "stream",
          "name": "stdout",
          "text": [
            "[1. 2. 0. 3. 0.]\n"
          ]
        }
      ]
    },
    {
      "cell_type": "markdown",
      "source": [
        "20. Normalize a 2d array (subtract the mean and divide by the standard deviation.)"
      ],
      "metadata": {
        "id": "MYEzPlktA1wQ"
      }
    },
    {
      "cell_type": "code",
      "source": [
        "import numpy as np\n",
        "\n",
        "arr = np.array([[1,2],[3,4]])\n",
        "\n",
        "mean = np.mean(arr)\n",
        "std = np.std(arr)\n",
        "\n",
        "normalized_arr = (arr-mean)/std\n",
        "print(normalized_arr)"
      ],
      "metadata": {
        "colab": {
          "base_uri": "https://localhost:8080/"
        },
        "id": "J1edotbIAy5V",
        "outputId": "f6c5e3a6-cb2b-475f-ec32-8c0db2b591b9"
      },
      "execution_count": 20,
      "outputs": [
        {
          "output_type": "stream",
          "name": "stdout",
          "text": [
            "[[-1.34164079 -0.4472136 ]\n",
            " [ 0.4472136   1.34164079]]\n"
          ]
        }
      ]
    },
    {
      "cell_type": "markdown",
      "source": [
        "21. Solve a system of linear equations using NumPy."
      ],
      "metadata": {
        "id": "-mYfFaePBaHa"
      }
    },
    {
      "cell_type": "code",
      "source": [
        "import numpy as np\n",
        "\n",
        "A = np.array([[2, 1], [1, 3]])\n",
        "B = np.array([8, 13])\n",
        "\n",
        "solution = np.linalg.solve(A, B)\n",
        "print(solution)"
      ],
      "metadata": {
        "colab": {
          "base_uri": "https://localhost:8080/"
        },
        "id": "gIS4VHEaBd4-",
        "outputId": "7bd0ae30-b239-4318-f358-3e15a3c65117"
      },
      "execution_count": 28,
      "outputs": [
        {
          "output_type": "stream",
          "name": "stdout",
          "text": [
            "[2.2 3.6]\n"
          ]
        }
      ]
    },
    {
      "cell_type": "markdown",
      "source": [
        "22. Compute the eigenvalues and eigenvectors of a matrix."
      ],
      "metadata": {
        "id": "Y1aWrfgPCfxh"
      }
    },
    {
      "cell_type": "code",
      "source": [
        "import numpy as np\n",
        "\n",
        "matrix = np.array([[4, 1], [2, 3]])\n",
        "\n",
        "eigenvalues, eigenvectors = np.linalg.eig(matrix)\n",
        "\n",
        "print(eigenvalues)\n",
        "print(eigenvectors)"
      ],
      "metadata": {
        "colab": {
          "base_uri": "https://localhost:8080/"
        },
        "id": "YhyIm57tCjBM",
        "outputId": "bd9c18d7-3edb-48c0-952d-e172a7c8278a"
      },
      "execution_count": 32,
      "outputs": [
        {
          "output_type": "stream",
          "name": "stdout",
          "text": [
            "[5. 2.]\n",
            "[[ 0.70710678 -0.4472136 ]\n",
            " [ 0.70710678  0.89442719]]\n"
          ]
        }
      ]
    },
    {
      "cell_type": "markdown",
      "source": [
        "23. Perform element-wise operations on two arrays of different shapes using broadcasting."
      ],
      "metadata": {
        "id": "RP6lEEnAEdU2"
      }
    },
    {
      "cell_type": "code",
      "source": [
        "import numpy as np\n",
        "\n",
        "arr1 = np.array([[1,2],[3,4]])\n",
        "arr2 = np.array([2,3])\n",
        "\n",
        "result = arr1+arr2\n",
        "print(result)"
      ],
      "metadata": {
        "colab": {
          "base_uri": "https://localhost:8080/"
        },
        "id": "08c7jHbnEgr3",
        "outputId": "81eb7399-844a-4922-b2bf-86067d29ea3d"
      },
      "execution_count": 34,
      "outputs": [
        {
          "output_type": "stream",
          "name": "stdout",
          "text": [
            "[[3 5]\n",
            " [5 7]]\n"
          ]
        }
      ]
    },
    {
      "cell_type": "markdown",
      "source": [
        "24. Find the unique elements and their counts in a 1D array."
      ],
      "metadata": {
        "id": "54AvawwXH3Mq"
      }
    },
    {
      "cell_type": "code",
      "source": [
        "import numpy as np\n",
        "\n",
        "arr = np.array([1,2,3,2,5])\n",
        "unique_elements,counts = np.unique(arr, return_counts=True)\n",
        "print(unique_elements)\n",
        "print(counts)"
      ],
      "metadata": {
        "colab": {
          "base_uri": "https://localhost:8080/"
        },
        "id": "gPirsazKH23q",
        "outputId": "cc5e20e1-5e46-4046-a0f0-debd63c8fad2"
      },
      "execution_count": 37,
      "outputs": [
        {
          "output_type": "stream",
          "name": "stdout",
          "text": [
            "[1 2 3 5]\n",
            "[1 2 1 1]\n"
          ]
        }
      ]
    },
    {
      "cell_type": "markdown",
      "source": [
        "25.  Sort a 2D array by a specific column."
      ],
      "metadata": {
        "id": "fPORi_kDIhx7"
      }
    },
    {
      "cell_type": "code",
      "source": [
        "import numpy as np\n",
        "\n",
        "arr = np.array([[1,2],[7,4],[2,6]])\n",
        "\n",
        "sorted_arr = arr[arr[:,1].argsort()]\n",
        "print(sorted_arr)\n"
      ],
      "metadata": {
        "colab": {
          "base_uri": "https://localhost:8080/"
        },
        "id": "SVViJoWEIkWE",
        "outputId": "46a625f3-e932-428e-c07a-255d1d4dbace"
      },
      "execution_count": 40,
      "outputs": [
        {
          "output_type": "stream",
          "name": "stdout",
          "text": [
            "[[1 2]\n",
            " [7 4]\n",
            " [2 6]]\n"
          ]
        }
      ]
    },
    {
      "cell_type": "markdown",
      "source": [
        "26. Find the indices of non-zero elements in a 1D array."
      ],
      "metadata": {
        "id": "qTtJoPa0JmZM"
      }
    },
    {
      "cell_type": "code",
      "source": [
        "import numpy as np\n",
        "\n",
        "arr = np.array([0, 1, 0, 2, 0, 3])\n",
        "\n",
        "non_zero_indices = np.nonzero(arr)\n",
        "print(non_zero_indices)"
      ],
      "metadata": {
        "colab": {
          "base_uri": "https://localhost:8080/"
        },
        "id": "U71e9w8NJe8g",
        "outputId": "f26e68d5-a641-48b2-ea68-7f4f0f0a0352"
      },
      "execution_count": 41,
      "outputs": [
        {
          "output_type": "stream",
          "name": "stdout",
          "text": [
            "(array([1, 3, 5]),)\n"
          ]
        }
      ]
    },
    {
      "cell_type": "markdown",
      "source": [
        "27. Create a 2D array with 1 on the border and 0 inside."
      ],
      "metadata": {
        "id": "c8rmIdgFKCY5"
      }
    },
    {
      "cell_type": "code",
      "source": [
        "import numpy as np\n",
        "\n",
        "arr = np.zeros((5, 5))\n",
        "\n",
        "arr[0, :] = 1  # First row\n",
        "arr[-1, :] = 1  # Last row\n",
        "arr[:, 0] = 1  # First column\n",
        "arr[:, -1] = 1  # Last column\n",
        "\n",
        "print(arr)"
      ],
      "metadata": {
        "colab": {
          "base_uri": "https://localhost:8080/"
        },
        "id": "YpjpD-JTKDT3",
        "outputId": "d745d6a9-e7f3-4f75-a850-554a670dd5f3"
      },
      "execution_count": 42,
      "outputs": [
        {
          "output_type": "stream",
          "name": "stdout",
          "text": [
            "[[1. 1. 1. 1. 1.]\n",
            " [1. 0. 0. 0. 1.]\n",
            " [1. 0. 0. 0. 1.]\n",
            " [1. 0. 0. 0. 1.]\n",
            " [1. 1. 1. 1. 1.]]\n"
          ]
        }
      ]
    },
    {
      "cell_type": "markdown",
      "source": [
        "28. Compute the outer product of two vectors."
      ],
      "metadata": {
        "id": "tz_TXBBjKMZg"
      }
    },
    {
      "cell_type": "code",
      "source": [
        "import numpy as np\n",
        "\n",
        "vector1 = np.array([1, 2, 3])\n",
        "vector2 = np.array([4, 5, 6])\n",
        "\n",
        "outer_product = np.outer(vector1, vector2)\n",
        "print(outer_product)"
      ],
      "metadata": {
        "colab": {
          "base_uri": "https://localhost:8080/"
        },
        "id": "X2y4hyN6KNKb",
        "outputId": "88691155-7f52-4dc5-831a-1a7cbf7775b4"
      },
      "execution_count": 43,
      "outputs": [
        {
          "output_type": "stream",
          "name": "stdout",
          "text": [
            "[[ 4  5  6]\n",
            " [ 8 10 12]\n",
            " [12 15 18]]\n"
          ]
        }
      ]
    },
    {
      "cell_type": "markdown",
      "source": [
        "29. Find the correlation coefficient between two arrays."
      ],
      "metadata": {
        "id": "tjbqYiDkKUD7"
      }
    },
    {
      "cell_type": "code",
      "source": [
        "import numpy as np\n",
        "\n",
        "arr1 = np.array([1, 2, 3, 4, 5])\n",
        "arr2 = np.array([5, 4, 3, 2, 1])\n",
        "\n",
        "correlation_coefficient = np.corrcoef(arr1, arr2)[0, 1]\n",
        "print(correlation_coefficient)"
      ],
      "metadata": {
        "colab": {
          "base_uri": "https://localhost:8080/"
        },
        "id": "RB-E5-BUKWGL",
        "outputId": "ef59ded1-e75d-4da4-9e16-e14162bc41bf"
      },
      "execution_count": 44,
      "outputs": [
        {
          "output_type": "stream",
          "name": "stdout",
          "text": [
            "-0.9999999999999999\n"
          ]
        }
      ]
    },
    {
      "cell_type": "markdown",
      "source": [
        "30. Generate a random walk using NumPy."
      ],
      "metadata": {
        "id": "EAJoQzuQKdo4"
      }
    },
    {
      "cell_type": "code",
      "source": [
        "import numpy as np\n",
        "\n",
        "steps = 100\n",
        "random_walk = np.cumsum(np.random.choice([-1, 1], size=steps))\n",
        "\n",
        "print(random_walk)"
      ],
      "metadata": {
        "colab": {
          "base_uri": "https://localhost:8080/"
        },
        "id": "eGkibBtcKeSE",
        "outputId": "30d4a6a7-0271-4cb9-f775-da43766a6d4c"
      },
      "execution_count": 56,
      "outputs": [
        {
          "output_type": "stream",
          "name": "stdout",
          "text": [
            "[ 1  0 -1 -2 -1  0 -1  0  1  0  1  0  1  2  3  4  3  4  3  4  5  4  5  6\n",
            "  7  8  7  6  7  6  7  8  9  8  7  8  9  8  7  6  5  6  5  6  5  6  7  6\n",
            "  7  6  5  6  5  4  5  6  5  6  5  6  7  6  5  6  7  6  7  6  7  6  5  4\n",
            "  5  4  3  2  1  0  1  2  1  0  1  2  3  2  1  2  3  2  3  4  3  2  3  4\n",
            "  3  2  1  2]\n"
          ]
        }
      ]
    }
  ]
}