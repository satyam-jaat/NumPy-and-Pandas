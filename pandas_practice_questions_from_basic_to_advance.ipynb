{
  "nbformat": 4,
  "nbformat_minor": 0,
  "metadata": {
    "colab": {
      "provenance": [],
      "authorship_tag": "ABX9TyPs1Wkq+yOjSRx61s2pe6xF",
      "include_colab_link": true
    },
    "kernelspec": {
      "name": "python3",
      "display_name": "Python 3"
    },
    "language_info": {
      "name": "python"
    }
  },
  "cells": [
    {
      "cell_type": "markdown",
      "metadata": {
        "id": "view-in-github",
        "colab_type": "text"
      },
      "source": [
        "<a href=\"https://colab.research.google.com/github/satyam-jaat/NumPy-and-Pandas/blob/main/pandas_practice_questions_from_basic_to_advance.ipynb\" target=\"_parent\"><img src=\"https://colab.research.google.com/assets/colab-badge.svg\" alt=\"Open In Colab\"/></a>"
      ]
    },
    {
      "cell_type": "markdown",
      "source": [
        "1. Data Structures: Create a DataFrame from a Python dictionary and customize the index labels."
      ],
      "metadata": {
        "id": "2fhuw6FEduIM"
      }
    },
    {
      "cell_type": "code",
      "execution_count": 3,
      "metadata": {
        "colab": {
          "base_uri": "https://localhost:8080/"
        },
        "id": "Fue6NezwdXU6",
        "outputId": "e9ec403f-db37-4c86-83aa-4c40b71282db"
      },
      "outputs": [
        {
          "output_type": "stream",
          "name": "stdout",
          "text": [
            "      Name  Age         City\n",
            "A    Alice   25     New York\n",
            "B      Bob   30  Los Angeles\n",
            "C  Charlie   35      Chicago\n"
          ]
        }
      ],
      "source": [
        "import pandas as pd\n",
        "\n",
        "# Create a DataFrame from a dictionary/dataset\n",
        "data = {'Name': ['Alice', 'Bob', 'Charlie'],\n",
        "        'Age': [25, 30, 35],\n",
        "        'City': ['New York', 'Los Angeles', 'Chicago']}\n",
        "\n",
        "df = pd.DataFrame(data)\n",
        "\n",
        "# Customize the index labels\n",
        "df.index = ['A', 'B', 'C']    #if not there then the index is 0, 1, 2\n",
        "print(df)\n"
      ]
    },
    {
      "cell_type": "markdown",
      "source": [
        "2. Data Selection: Select specific rows and columns using loc[] and iloc[] from a DataFrame."
      ],
      "metadata": {
        "id": "EMzBWauLeLol"
      }
    },
    {
      "cell_type": "code",
      "source": [
        "import pandas as pd\n",
        "\n",
        "# Creating a sample DataFrame\n",
        "data = {\n",
        "    'ID': [101, 102, 103],\n",
        "    'Name': ['Alice', 'Bob', 'Charlie'],\n",
        "    'Age': [25, 30, 35]\n",
        "}\n",
        "index_labels = ['A', 'B', 'C']  # Custom index labels\n",
        "df = pd.DataFrame(data, index=index_labels)\n",
        "\n",
        "# Using loc[] to select by label\n",
        "selected_row_loc = df.loc['A']  # Select row by index label 'A'\n",
        "selected_column_loc = df.loc[:, 'Name']  # Select column 'Name'\n",
        "\n",
        "print(\"Selected row using loc:\\n\", selected_row_loc, \"\\n\")\n",
        "print(\"Selected column using loc:\\n\", selected_column_loc, \"\\n\")\n",
        "\n",
        "# Using iloc[] to select by position\n",
        "selected_row_iloc = df.iloc[0]  # Select first row by position\n",
        "selected_column_iloc = df.iloc[:, 1]  # Select second column by position\n",
        "\n",
        "print(\"Selected row using iloc:\\n\", selected_row_iloc, \"\\n\")\n",
        "print(\"Selected column using iloc:\\n\", selected_column_iloc)\n"
      ],
      "metadata": {
        "colab": {
          "base_uri": "https://localhost:8080/"
        },
        "id": "ehDB0exmeOTb",
        "outputId": "4199582e-bb0e-478b-e172-a29210466f4e"
      },
      "execution_count": 21,
      "outputs": [
        {
          "output_type": "stream",
          "name": "stdout",
          "text": [
            "Selected row using loc:\n",
            " ID        101\n",
            "Name    Alice\n",
            "Age        25\n",
            "Name: A, dtype: object \n",
            "\n",
            "Selected column using loc:\n",
            " A      Alice\n",
            "B        Bob\n",
            "C    Charlie\n",
            "Name: Name, dtype: object \n",
            "\n",
            "Selected row using iloc:\n",
            " ID        101\n",
            "Name    Alice\n",
            "Age        25\n",
            "Name: A, dtype: object \n",
            "\n",
            "Selected column using iloc:\n",
            " A      Alice\n",
            "B        Bob\n",
            "C    Charlie\n",
            "Name: Name, dtype: object\n"
          ]
        }
      ]
    },
    {
      "cell_type": "markdown",
      "source": [
        "3. Filtering: Filter rows where a numeric column's value is greater than a threshold.\n",
        "\n"
      ],
      "metadata": {
        "id": "I29pPdfDfk_J"
      }
    },
    {
      "cell_type": "code",
      "source": [
        "import pandas as pd\n",
        "\n",
        "# Creating a sample DataFrame\n",
        "data = {\n",
        "    'ID': [101, 102, 103],\n",
        "    'Name': ['Alice', 'Bob', 'Charlie'],\n",
        "    'Age': [25, 30, 35]\n",
        "}\n",
        "index_labels = ['A', 'B', 'C']  # Custom index labels\n",
        "df = pd.DataFrame(data, index=index_labels)\n",
        "\n",
        "# Filtering: Filter rows where 'Age' is greater than a threshold\n",
        "threshold = 28\n",
        "filtered_df = df[df['Age'] > threshold]\n",
        "print(\"Filtered DataFrame:\\n\", filtered_df)\n"
      ],
      "metadata": {
        "colab": {
          "base_uri": "https://localhost:8080/"
        },
        "id": "SmfwKkiifn3G",
        "outputId": "96f35f47-a740-44a6-b8db-179f97af77a9"
      },
      "execution_count": 22,
      "outputs": [
        {
          "output_type": "stream",
          "name": "stdout",
          "text": [
            "Filtered DataFrame:\n",
            "     ID     Name  Age\n",
            "B  102      Bob   30\n",
            "C  103  Charlie   35\n"
          ]
        }
      ]
    },
    {
      "cell_type": "markdown",
      "source": [
        "4. Column Operations: Add a new column derived from arithmetic operations on existing columns."
      ],
      "metadata": {
        "id": "Hl5AV2Kqfux-"
      }
    },
    {
      "cell_type": "code",
      "source": [
        "import pandas as pd\n",
        "\n",
        "# Creating a sample DataFrame\n",
        "data = {\n",
        "    'ID': [101, 102, 103],\n",
        "    'Name': ['Alice', 'Bob', 'Charlie'],\n",
        "    'Age': [25, 30, 35],\n",
        "    'Salary': [50000, 60000, 70000]\n",
        "}\n",
        "index_labels = ['A', 'B', 'C']  # Custom index labels\n",
        "df = pd.DataFrame(data, index=index_labels)\n",
        "\n",
        "# Column Operations: Add a new column derived from arithmetic operations\n",
        "# Adding a new column 'Salary_After_Tax' assuming a 10% tax deduction\n",
        "df['Salary_After_Tax'] = df['Salary'] * 0.9\n",
        "print(\"DataFrame with new column:\\n\", df)"
      ],
      "metadata": {
        "colab": {
          "base_uri": "https://localhost:8080/"
        },
        "id": "QU70uZhvfxBm",
        "outputId": "9ca15f39-9c44-4d6b-a135-4aa45bfb52f8"
      },
      "execution_count": 23,
      "outputs": [
        {
          "output_type": "stream",
          "name": "stdout",
          "text": [
            "DataFrame with new column:\n",
            "     ID     Name  Age  Salary  Salary_After_Tax\n",
            "A  101    Alice   25   50000           45000.0\n",
            "B  102      Bob   30   60000           54000.0\n",
            "C  103  Charlie   35   70000           63000.0\n"
          ]
        }
      ]
    },
    {
      "cell_type": "markdown",
      "source": [
        "5. Missing Data: Identify and handle missing values by either filling them with a mean or dropping rows/columns."
      ],
      "metadata": {
        "id": "BV2FnsYVf6GP"
      }
    },
    {
      "cell_type": "code",
      "source": [
        "import pandas as pd\n",
        "\n",
        "# Sample DataFrame\n",
        "data = {'Name': ['Alice', 'Bob', 'Charlie'],\n",
        "        'Age': [25, 30, 35],\n",
        "        'City': ['New York', 'Los Angeles', 'Chicago']}\n",
        "\n",
        "df = pd.DataFrame(data)\n",
        "\n",
        "# Introduce missing value in 'Age' column for the first row\n",
        "df_with_missing = df.copy()  # Make a copy of the DataFrame\n",
        "df_with_missing.loc[0, 'Age'] = None  # Introduce a missing value\n",
        "\n",
        "# Check for missing values\n",
        "missing_values = df_with_missing.isnull()\n",
        "print(\"Missing Values:\\n\", missing_values)\n",
        "\n",
        "# Fill missing values with the mean of the 'Age' column (Corrected approach)\n",
        "df_with_missing['Age'] = df_with_missing['Age'].fillna(df_with_missing['Age'].mean())\n",
        "\n",
        "# Alternatively, drop rows with missing values\n",
        "# df_with_missing = df_with_missing.dropna()\n",
        "\n",
        "print(\"\\nDataFrame after handling missing values:\\n\", df_with_missing)\n"
      ],
      "metadata": {
        "colab": {
          "base_uri": "https://localhost:8080/"
        },
        "id": "98ov7dzEf74l",
        "outputId": "66192783-cff0-4aa5-f8cc-2708cd047938"
      },
      "execution_count": 19,
      "outputs": [
        {
          "output_type": "stream",
          "name": "stdout",
          "text": [
            "Missing Values:\n",
            "     Name    Age   City\n",
            "0  False   True  False\n",
            "1  False  False  False\n",
            "2  False  False  False\n",
            "\n",
            "DataFrame after handling missing values:\n",
            "       Name   Age         City\n",
            "0    Alice  32.5     New York\n",
            "1      Bob  30.0  Los Angeles\n",
            "2  Charlie  35.0      Chicago\n"
          ]
        }
      ]
    },
    {
      "cell_type": "markdown",
      "source": [
        "6. I/O Operations: Read a CSV/Excel file into a DataFrame and write the DataFrame back to a new file."
      ],
      "metadata": {
        "id": "N_yGmIuljp_4"
      }
    },
    {
      "cell_type": "code",
      "source": [
        "import pandas as pd\n",
        "\n",
        "# Reading data from a CSV file into a DataFrame\n",
        "df = pd.read_csv('input.csv')\n",
        "\n",
        "# Display the first few rows of the DataFrame\n",
        "print(\"DataFrame read from CSV:\\n\", df.head())\n",
        "\n",
        "# Writing the DataFrame to a new CSV file\n",
        "df.to_csv('output.csv', index=False)\n",
        "\n",
        "# Reading data from an Excel file into a DataFrame\n",
        "df_excel = pd.read_excel('input.xlsx')\n",
        "\n",
        "# Display the first few rows of the Excel DataFrame\n",
        "print(\"DataFrame read from Excel:\\n\", df_excel.head())\n",
        "\n",
        "# Writing the DataFrame to a new Excel file\n",
        "df_excel.to_excel('output.xlsx', index=False)\n"
      ],
      "metadata": {
        "id": "AgFFpPcKjntt"
      },
      "execution_count": null,
      "outputs": []
    },
    {
      "cell_type": "markdown",
      "source": [
        "7. Column Management: Drop one or more columns from a DataFrame."
      ],
      "metadata": {
        "id": "MZBDInyllILb"
      }
    },
    {
      "cell_type": "code",
      "source": [
        "import pandas as pd\n",
        "\n",
        "# Sample DataFrame\n",
        "data = {\n",
        "    'Name': ['Alice', 'Bob', 'Charlie'],\n",
        "    'Age': [25, 30, 35],\n",
        "    'City': ['New York', 'Los Angeles', 'Chicago']\n",
        "}\n",
        "\n",
        "df = pd.DataFrame(data)\n",
        "print(\"Original DataFrame:\\n\", df)\n",
        "\n",
        "# Dropping the 'City' column\n",
        "df.drop(columns=['City'], inplace=True)\n",
        "\n",
        "print(\"\\nDataFrame after dropping 'City':\\n\", df)\n"
      ],
      "metadata": {
        "colab": {
          "base_uri": "https://localhost:8080/"
        },
        "id": "iJHBR8BUlKKb",
        "outputId": "f1921484-ad97-4cd0-ccc3-c19f514424a8"
      },
      "execution_count": 25,
      "outputs": [
        {
          "output_type": "stream",
          "name": "stdout",
          "text": [
            "Original DataFrame:\n",
            "       Name  Age         City\n",
            "0    Alice   25     New York\n",
            "1      Bob   30  Los Angeles\n",
            "2  Charlie   35      Chicago\n",
            "\n",
            "DataFrame after dropping 'City':\n",
            "       Name  Age\n",
            "0    Alice   25\n",
            "1      Bob   30\n",
            "2  Charlie   35\n"
          ]
        }
      ]
    },
    {
      "cell_type": "markdown",
      "source": [
        "8. Renaming: Rename columns to follow a specific naming convention (e.g., snake_case).\n",
        "python\n",
        "Copy\n"
      ],
      "metadata": {
        "id": "obuvh2zLmIAy"
      }
    },
    {
      "cell_type": "code",
      "source": [
        "import pandas as pd\n",
        "import re\n",
        "\n",
        "def to_snake_case(column_name):\n",
        "    column_name = re.sub(r'([a-z])([A-Z])', r'\\1_\\2', column_name)  # Convert camelCase to snake_case\n",
        "    column_name = re.sub(r'\\s+', '_', column_name)  # Replace spaces with underscores\n",
        "    return column_name.lower()\n",
        "\n",
        "# Example DataFrame\n",
        "df = pd.DataFrame({\n",
        "    \"First Name\": [ \"Alice\", \"Bob\"],\n",
        "    \"LastName\": [\"Smith\", \"Johnson\"],\n",
        "    \"Age\": [25, 30]\n",
        "})\n",
        "\n",
        "# Renaming columns\n",
        "df.columns = [to_snake_case(col) for col in df.columns]\n",
        "\n",
        "print(df)\n"
      ],
      "metadata": {
        "colab": {
          "base_uri": "https://localhost:8080/"
        },
        "id": "CCuG93KrmLls",
        "outputId": "f36464c6-25a9-4b13-c4b1-50352f8ec862"
      },
      "execution_count": 26,
      "outputs": [
        {
          "output_type": "stream",
          "name": "stdout",
          "text": [
            "  first_name last_name  age\n",
            "0      Alice     Smith   25\n",
            "1        Bob   Johnson   30\n"
          ]
        }
      ]
    },
    {
      "cell_type": "markdown",
      "source": [
        "9. Sorting: Sort a DataFrame by one or more columns in ascending/descending order.\n",
        "\n"
      ],
      "metadata": {
        "id": "2l304Kq6m_7Q"
      }
    },
    {
      "cell_type": "code",
      "source": [
        "import pandas as pd\n",
        "\n",
        "# Sample DataFrame\n",
        "data = {'Name': ['Alice', 'Bob', 'Charlie', 'David'],\n",
        "        'Age': [25, 30, 22, 35],\n",
        "        'Salary': [50000, 70000, 45000, 80000]}\n",
        "\n",
        "df = pd.DataFrame(data)\n",
        "\n",
        "# Sorting by Age in ascending order\n",
        "df_sorted = df.sort_values(by='Age')\n",
        "\n",
        "print(df_sorted)\n"
      ],
      "metadata": {
        "colab": {
          "base_uri": "https://localhost:8080/"
        },
        "id": "-oqVi12rnGul",
        "outputId": "9c4e66b1-1b8f-44d0-e33a-cc8113a8d6bc"
      },
      "execution_count": 27,
      "outputs": [
        {
          "output_type": "stream",
          "name": "stdout",
          "text": [
            "      Name  Age  Salary\n",
            "2  Charlie   22   45000\n",
            "0    Alice   25   50000\n",
            "1      Bob   30   70000\n",
            "3    David   35   80000\n"
          ]
        }
      ]
    },
    {
      "cell_type": "markdown",
      "source": [
        "10. Aggregation: Use groupby to calculate summary statistics (e.g., mean, sum) for grouped data.\n",
        "python\n",
        "Copy\n"
      ],
      "metadata": {
        "id": "oPlVCD2snaWH"
      }
    },
    {
      "cell_type": "code",
      "source": [
        "import pandas as pd\n",
        "\n",
        "# Sample dataset\n",
        "data = {\n",
        "    'Category': ['A', 'B', 'A', 'B', 'A', 'C', 'C', 'B'],\n",
        "    'Value': [10, 20, 30, 40, 50, 60, 70, 80]\n",
        "}\n",
        "\n",
        "df = pd.DataFrame(data)\n",
        "\n",
        "# Grouping by 'Category' and calculating summary statistics\n",
        "grouped = df.groupby('Category')['Value'].agg(['mean', 'sum'])\n",
        "\n",
        "print(grouped)"
      ],
      "metadata": {
        "colab": {
          "base_uri": "https://localhost:8080/"
        },
        "id": "bcj45WNInfCz",
        "outputId": "5bafbb4a-b9bd-48de-ac22-5c62b093d29a"
      },
      "execution_count": 29,
      "outputs": [
        {
          "output_type": "stream",
          "name": "stdout",
          "text": [
            "               mean  sum\n",
            "Category                \n",
            "A         30.000000   90\n",
            "B         46.666667  140\n",
            "C         65.000000  130\n"
          ]
        }
      ]
    },
    {
      "cell_type": "markdown",
      "source": [
        "11. Joining Data: Merge two DataFrames using different types of joins (inner, left, right, outer).\n",
        "\n"
      ],
      "metadata": {
        "id": "Xfg0BDdznvo-"
      }
    },
    {
      "cell_type": "code",
      "source": [
        "import pandas as pd\n",
        "\n",
        "# Creating two DataFrames\n",
        "df1 = pd.DataFrame({\n",
        "    'ID': [1, 2, 3, 4],\n",
        "    'Name': ['Alice', 'Bob', 'Charlie', 'David'],\n",
        "    'Score': [85, 90, 88, 76]\n",
        "})\n",
        "\n",
        "df2 = pd.DataFrame({\n",
        "    'ID': [3, 4, 5, 6],\n",
        "    'Subject': ['Math', 'Science', 'English', 'History'],\n",
        "    'Marks': [95, 89, 92, 80]\n",
        "})\n",
        "\n",
        "# INNER JOIN (Only matching IDs)\n",
        "inner_join = pd.merge(df1, df2, on='ID', how='inner')\n",
        "\n",
        "# LEFT JOIN (All from df1, matching from df2)\n",
        "left_join = pd.merge(df1, df2, on='ID', how='left')\n",
        "\n",
        "# RIGHT JOIN (All from df2, matching from df1)\n",
        "right_join = pd.merge(df1, df2, on='ID', how='right')\n",
        "\n",
        "# OUTER JOIN (Union of both)\n",
        "outer_join = pd.merge(df1, df2, on='ID', how='outer')\n",
        "\n",
        "# Display results\n",
        "print(\"INNER JOIN:\\n\", inner_join)\n",
        "print(\"\\nLEFT JOIN:\\n\", left_join)\n",
        "print(\"\\nRIGHT JOIN:\\n\", right_join)\n",
        "print(\"\\nOUTER JOIN:\\n\", outer_join)\n"
      ],
      "metadata": {
        "colab": {
          "base_uri": "https://localhost:8080/"
        },
        "id": "bSDSCloTn4g4",
        "outputId": "b395ca66-e2e1-4757-e8f0-65eb9a00c098"
      },
      "execution_count": 30,
      "outputs": [
        {
          "output_type": "stream",
          "name": "stdout",
          "text": [
            "INNER JOIN:\n",
            "    ID     Name  Score  Subject  Marks\n",
            "0   3  Charlie     88     Math     95\n",
            "1   4    David     76  Science     89\n",
            "\n",
            "LEFT JOIN:\n",
            "    ID     Name  Score  Subject  Marks\n",
            "0   1    Alice     85      NaN    NaN\n",
            "1   2      Bob     90      NaN    NaN\n",
            "2   3  Charlie     88     Math   95.0\n",
            "3   4    David     76  Science   89.0\n",
            "\n",
            "RIGHT JOIN:\n",
            "    ID     Name  Score  Subject  Marks\n",
            "0   3  Charlie   88.0     Math     95\n",
            "1   4    David   76.0  Science     89\n",
            "2   5      NaN    NaN  English     92\n",
            "3   6      NaN    NaN  History     80\n",
            "\n",
            "OUTER JOIN:\n",
            "    ID     Name  Score  Subject  Marks\n",
            "0   1    Alice   85.0      NaN    NaN\n",
            "1   2      Bob   90.0      NaN    NaN\n",
            "2   3  Charlie   88.0     Math   95.0\n",
            "3   4    David   76.0  Science   89.0\n",
            "4   5      NaN    NaN  English   92.0\n",
            "5   6      NaN    NaN  History   80.0\n"
          ]
        }
      ]
    },
    {
      "cell_type": "markdown",
      "source": [
        "12. Pivoting: Create a pivot table to summarize data with rows, columns, and values.\n",
        "\n"
      ],
      "metadata": {
        "id": "XKgdaEaSoxM6"
      }
    },
    {
      "cell_type": "code",
      "source": [
        "import pandas as pd\n",
        "\n",
        "# Sample Data\n",
        "data = {\n",
        "    'Category': ['Electronics', 'Clothing', 'Electronics', 'Clothing'],\n",
        "    'Year': [2023, 2023, 2024, 2024],\n",
        "    'Sales': [1000, 1500, 1200, 1700]\n",
        "}\n",
        "\n",
        "df = pd.DataFrame(data)\n",
        "\n",
        "# Create Pivot Table\n",
        "pivot_table = df.pivot_table(values='Sales', index='Category', columns='Year', aggfunc='sum')\n",
        "\n",
        "print(pivot_table)\n"
      ],
      "metadata": {
        "colab": {
          "base_uri": "https://localhost:8080/"
        },
        "id": "6npyqZvoo1X3",
        "outputId": "3daff0d5-0ff2-4617-ec62-3edc2d4c3619"
      },
      "execution_count": 31,
      "outputs": [
        {
          "output_type": "stream",
          "name": "stdout",
          "text": [
            "Year         2023  2024\n",
            "Category               \n",
            "Clothing     1500  1700\n",
            "Electronics  1000  1200\n"
          ]
        }
      ]
    },
    {
      "cell_type": "markdown",
      "source": [
        "13.Custom Functions: Apply a custom function to a column using apply() or map().\n",
        "\n"
      ],
      "metadata": {
        "id": "-0RMhGTmpVQ6"
      }
    },
    {
      "cell_type": "code",
      "source": [
        "import pandas as pd\n",
        "\n",
        "# Sample DataFrame\n",
        "df = pd.DataFrame({'Name': ['Alice', 'Bob', 'Charlie'], 'Age': [25, 30, 35]})\n",
        "\n",
        "# Custom function to categorize age\n",
        "def categorize_age(age):\n",
        "    return 'Young' if age < 30 else 'Adult'\n",
        "\n",
        "# Apply the function to the 'Age' column\n",
        "df['Category'] = df['Age'].apply(categorize_age)\n",
        "\n",
        "print(df)\n"
      ],
      "metadata": {
        "colab": {
          "base_uri": "https://localhost:8080/"
        },
        "id": "hQ2obXc4pc1O",
        "outputId": "7ca6a47c-155c-4875-f0a3-df9a2487bbe5"
      },
      "execution_count": 32,
      "outputs": [
        {
          "output_type": "stream",
          "name": "stdout",
          "text": [
            "      Name  Age Category\n",
            "0    Alice   25    Young\n",
            "1      Bob   30    Adult\n",
            "2  Charlie   35    Adult\n"
          ]
        }
      ]
    },
    {
      "cell_type": "markdown",
      "source": [
        "14. String Manipulation: Clean a text column (e.g., lowercase, remove whitespace) using vectorized string methods.\n",
        "\n"
      ],
      "metadata": {
        "id": "WKP96q1MprTL"
      }
    },
    {
      "cell_type": "code",
      "source": [
        "import pandas as pd\n",
        "\n",
        "# Sample DataFrame\n",
        "data = {'Text': ['  Hello World  ', 'Python is GREAT! ', ' Data Science 101 ']}\n",
        "\n",
        "df = pd.DataFrame(data)\n",
        "\n",
        "# Clean the text column\n",
        "df['Cleaned_Text'] = df['Text'].str.strip().str.lower()\n",
        "\n",
        "# Display result\n",
        "print(df)\n"
      ],
      "metadata": {
        "colab": {
          "base_uri": "https://localhost:8080/"
        },
        "id": "TUf3yZDepq0D",
        "outputId": "3bb6d3de-a28e-4b3d-a379-de78c6b554bd"
      },
      "execution_count": 33,
      "outputs": [
        {
          "output_type": "stream",
          "name": "stdout",
          "text": [
            "                 Text      Cleaned_Text\n",
            "0       Hello World         hello world\n",
            "1   Python is GREAT!   python is great!\n",
            "2   Data Science 101   data science 101\n"
          ]
        }
      ]
    },
    {
      "cell_type": "markdown",
      "source": [
        "15. Time Series: Convert a column to datetime format and extract components (e.g., year, month).\n",
        "\n"
      ],
      "metadata": {
        "id": "6pMYuuI1qEeZ"
      }
    },
    {
      "cell_type": "code",
      "source": [
        "import pandas as pd\n",
        "\n",
        "# Sample data with date and time\n",
        "data = {'datetime': ['2023-01-15 14:30:45', '2024-06-10 09:15:30', '2025-12-25 22:45:10']}\n",
        "\n",
        "# Create DataFrame\n",
        "df = pd.DataFrame(data)\n",
        "\n",
        "# Convert column to datetime format\n",
        "df['datetime'] = pd.to_datetime(df['datetime'])\n",
        "\n",
        "# Extract date components\n",
        "df['year'] = df['datetime'].dt.year\n",
        "df['month'] = df['datetime'].dt.month\n",
        "df['day'] = df['datetime'].dt.day\n",
        "# df['weekday'] = df['datetime'].dt.day_name()\n",
        "# df['quarter'] = df['datetime'].dt.quarter\n",
        "# df['day_of_year'] = df['datetime'].dt.dayofyear\n",
        "\n",
        "# Extract time components\n",
        "df['hour'] = df['datetime'].dt.hour\n",
        "df['minute'] = df['datetime'].dt.minute\n",
        "df['second'] = df['datetime'].dt.second\n",
        "# df['am_pm'] = df['datetime'].dt.strftime('%p')  # AM or PM\n",
        "# df['time'] = df['datetime'].dt.time  # Extract only time\n",
        "\n",
        "# Display result\n",
        "print(df)\n"
      ],
      "metadata": {
        "colab": {
          "base_uri": "https://localhost:8080/"
        },
        "id": "CUZxGaApqHi6",
        "outputId": "16f2d61b-55d8-4b0f-89f9-a325928776e8"
      },
      "execution_count": 38,
      "outputs": [
        {
          "output_type": "stream",
          "name": "stdout",
          "text": [
            "             datetime  year  month  day  hour  minute  second\n",
            "0 2023-01-15 14:30:45  2023      1   15    14      30      45\n",
            "1 2024-06-10 09:15:30  2024      6   10     9      15      30\n",
            "2 2025-12-25 22:45:10  2025     12   25    22      45      10\n"
          ]
        }
      ]
    }
  ]
}